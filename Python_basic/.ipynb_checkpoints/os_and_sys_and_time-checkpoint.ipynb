{
 "cells": [
  {
   "cell_type": "markdown",
   "metadata": {},
   "source": [
    "### 모듈 : 함수, 변수, 클래스 들을 모아 놓은 파일 (.py)"
   ]
  },
  {
   "cell_type": "markdown",
   "metadata": {},
   "source": [
    "### sys 모듈"
   ]
  },
  {
   "cell_type": "code",
   "execution_count": 1,
   "metadata": {},
   "outputs": [
    {
     "data": {
      "text/plain": [
       "['',\n",
       " '/home/dongsu/anaconda3/lib/python35.zip',\n",
       " '/home/dongsu/anaconda3/lib/python3.5',\n",
       " '/home/dongsu/anaconda3/lib/python3.5/plat-linux',\n",
       " '/home/dongsu/anaconda3/lib/python3.5/lib-dynload',\n",
       " '/home/dongsu/anaconda3/lib/python3.5/site-packages',\n",
       " '/home/dongsu/anaconda3/lib/python3.5/site-packages/Sphinx-1.4.6-py3.5.egg',\n",
       " '/home/dongsu/anaconda3/lib/python3.5/site-packages/setuptools-27.2.0-py3.5.egg',\n",
       " '/home/dongsu/anaconda3/lib/python3.5/site-packages/IPython/extensions',\n",
       " '/home/dongsu/.ipython']"
      ]
     },
     "execution_count": 1,
     "metadata": {},
     "output_type": "execute_result"
    }
   ],
   "source": [
    "import sys\n",
    "sys.path # 파이썬 모듈들이 저장된 위치"
   ]
  },
  {
   "cell_type": "raw",
   "metadata": {},
   "source": [
    "sys.path.append(\"내가 만든 모듈이 있는 디렉토리\") : 디렉토리 추가"
   ]
  },
  {
   "cell_type": "markdown",
   "metadata": {},
   "source": [
    "### os 모듈"
   ]
  },
  {
   "cell_type": "code",
   "execution_count": 2,
   "metadata": {},
   "outputs": [
    {
     "data": {
      "text/plain": [
       "'/home/damian'"
      ]
     },
     "execution_count": 2,
     "metadata": {},
     "output_type": "execute_result"
    }
   ],
   "source": [
    "import os\n",
    "os.getcwd() # 현재 디렉토리 확인"
   ]
  },
  {
   "cell_type": "raw",
   "metadata": {},
   "source": [
    "os.environ : 시스템 환경 변수 확인\n",
    " \n",
    "os.listdir(\"특정 디렉토리\") : 특정 디렉토리에 있는 모든 파일\n",
    "\n",
    "os.path.dirname(os.path.abspath(__file__)) : 해당 파일이 존재하는 디렉토리"
   ]
  },
  {
   "cell_type": "markdown",
   "metadata": {},
   "source": [
    "### time 모듈"
   ]
  },
  {
   "cell_type": "code",
   "execution_count": 3,
   "metadata": {},
   "outputs": [
    {
     "data": {
      "text/plain": [
       "'Fri Oct 26 14:33:59 2018'"
      ]
     },
     "execution_count": 3,
     "metadata": {},
     "output_type": "execute_result"
    }
   ],
   "source": [
    "import time\n",
    "time.strftime('%c', time.localtime(time.time()))"
   ]
  }
 ],
 "metadata": {
  "anaconda-cloud": {},
  "kernelspec": {
   "display_name": "Python [conda root]",
   "language": "python",
   "name": "conda-root-py"
  },
  "language_info": {
   "codemirror_mode": {
    "name": "ipython",
    "version": 3
   },
   "file_extension": ".py",
   "mimetype": "text/x-python",
   "name": "python",
   "nbconvert_exporter": "python",
   "pygments_lexer": "ipython3",
   "version": "3.5.2"
  }
 },
 "nbformat": 4,
 "nbformat_minor": 2
}
