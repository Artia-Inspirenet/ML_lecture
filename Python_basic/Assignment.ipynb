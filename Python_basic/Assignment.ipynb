{
 "cells": [
  {
   "cell_type": "code",
   "execution_count": 47,
   "metadata": {},
   "outputs": [],
   "source": [
    "import os\n",
    "\n",
    "working_dir = os.getcwd()\n",
    "file_name = 'Assignment_hint.txt'\n",
    "\n",
    "file = os.path.join(working_dir, file_name)\n",
    "with open(file, 'r') as f:\n",
    "    hints = f.read().split('!')"
   ]
  },
  {
   "cell_type": "markdown",
   "metadata": {},
   "source": [
    "# 1. 역삼각형 출력하기"
   ]
  },
  {
   "cell_type": "markdown",
   "metadata": {},
   "source": [
    "높이가 4일때, '*'를 사용하여 다음의 역삼각형을 출력하는 함수를 생성하시오.\n",
    "\n",
    "     ******* \n",
    "      *****\n",
    "       ***\n",
    "        *"
   ]
  },
  {
   "cell_type": "code",
   "execution_count": 48,
   "metadata": {},
   "outputs": [],
   "source": [
    "##### Type Your Code Here #####\n"
   ]
  },
  {
   "cell_type": "code",
   "execution_count": 49,
   "metadata": {},
   "outputs": [
    {
     "name": "stdout",
     "output_type": "stream",
     "text": [
      "<피라미드 모양 출력하기>\n",
      "\n",
      "높이 = 4\n",
      "\n",
      "고려해야 할 요소\n",
      "1) 별의 갯수\n",
      "\t7개(2*4 -1)\n",
      "\t5개(2*3 -1)\n",
      "\t3개(2*2 -1)\n",
      "\t1개(2*1 -1)\n",
      "2) 처음 띄어쓰기(공백)의 갯수\n",
      "    \t0개(4 - 4)\n",
      "        1개(4 - 3)\n",
      "\t2개(4 - 2)\n",
      "\t3개(4 - 1)\n",
      "\n",
      "'*' * 3 = ***\n",
      "' ' * 3 = '   '\n",
      "\n"
     ]
    }
   ],
   "source": [
    "##### Hint Here #####\n",
    "print (hints[0])"
   ]
  },
  {
   "cell_type": "markdown",
   "metadata": {},
   "source": [
    "# 2. 문자 빈도수 출력 -  모듈 사용(Counter)"
   ]
  },
  {
   "cell_type": "code",
   "execution_count": 50,
   "metadata": {},
   "outputs": [],
   "source": [
    "string = \"OSNpqptnpsdnfogqSDFOTOSDsdofbbzabcSTUEOEIQZbnw\""
   ]
  },
  {
   "cell_type": "markdown",
   "metadata": {},
   "source": [
    "string에서 알파벳을 빈도순으로 출력하시오.(대소문자 구분 없음)"
   ]
  },
  {
   "cell_type": "code",
   "execution_count": 51,
   "metadata": {},
   "outputs": [],
   "source": [
    "from collections import Counter"
   ]
  },
  {
   "cell_type": "code",
   "execution_count": 52,
   "metadata": {},
   "outputs": [],
   "source": [
    "##### Type Your Code Here #####\n",
    "\n"
   ]
  },
  {
   "cell_type": "code",
   "execution_count": 53,
   "metadata": {},
   "outputs": [
    {
     "name": "stdout",
     "output_type": "stream",
     "text": [
      "<문자 빈도수 출력 - 모듈 사용(Counter)>\n",
      "\n",
      "1.대문자 혹은 소문자로 통일(string.upper() / string.lower())\n",
      "2.help(Counter) 이용\n",
      "3.Counter().most_common() 이용\n",
      "\n"
     ]
    }
   ],
   "source": [
    "##### Hint Here #####\n",
    "print (hints[1])"
   ]
  },
  {
   "cell_type": "markdown",
   "metadata": {},
   "source": [
    "# 3. 거듭제곱 하기"
   ]
  },
  {
   "cell_type": "code",
   "execution_count": 54,
   "metadata": {},
   "outputs": [],
   "source": [
    "x = [1,2,3]\n",
    "y = [2,3,4]"
   ]
  },
  {
   "cell_type": "markdown",
   "metadata": {},
   "source": [
    "x의 원소를 밑으로하고, y의 원소를 지수로 하는 거듭제곱의 리스트를 생성하시오.\n",
    "[1^2, 2^3, 3^4]"
   ]
  },
  {
   "cell_type": "code",
   "execution_count": 55,
   "metadata": {},
   "outputs": [],
   "source": [
    "##### Type Your Code Here #####\n",
    "\n"
   ]
  },
  {
   "cell_type": "code",
   "execution_count": 56,
   "metadata": {},
   "outputs": [
    {
     "name": "stdout",
     "output_type": "stream",
     "text": [
      "<거듭제곱 하기>\n",
      "\n",
      "map() 이용\n",
      "\n"
     ]
    }
   ],
   "source": [
    "##### Hint Here #####\n",
    "print (hints[2])"
   ]
  },
  {
   "cell_type": "code",
   "execution_count": null,
   "metadata": {},
   "outputs": [],
   "source": []
  }
 ],
 "metadata": {
  "anaconda-cloud": {},
  "kernelspec": {
   "display_name": "Python [conda root]",
   "language": "python",
   "name": "conda-root-py"
  },
  "language_info": {
   "codemirror_mode": {
    "name": "ipython",
    "version": 3
   },
   "file_extension": ".py",
   "mimetype": "text/x-python",
   "name": "python",
   "nbconvert_exporter": "python",
   "pygments_lexer": "ipython3",
   "version": "3.5.2"
  }
 },
 "nbformat": 4,
 "nbformat_minor": 1
}
