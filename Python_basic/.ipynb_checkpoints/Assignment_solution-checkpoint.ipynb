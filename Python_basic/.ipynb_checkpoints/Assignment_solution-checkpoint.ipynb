{
 "cells": [
  {
   "cell_type": "markdown",
   "metadata": {},
   "source": [
    "# 1. 피라미드 모양 출력하기"
   ]
  },
  {
   "cell_type": "markdown",
   "metadata": {},
   "source": [
    "높이가 주어질 때, '*'를 사용하여 삼각형을 출력하는 함수를 생성하시오.(최대높이는 10이라 가정) \n",
    "\n",
    "예) 높이 = 4\n",
    "\n",
    "        *\n",
    "       ***\n",
    "      *****\n",
    "     ******* "
   ]
  },
  {
   "cell_type": "code",
   "execution_count": null,
   "metadata": {},
   "outputs": [],
   "source": [
    "def print_pyramid(height):\n",
    "    if height > 10:\n",
    "        pass\n",
    "    else:\n",
    "        for i in range(1, height+1):\n",
    "            space = height - i\n",
    "            print (' '*space + '*'*(2*i-1))"
   ]
  },
  {
   "cell_type": "code",
   "execution_count": null,
   "metadata": {},
   "outputs": [],
   "source": [
    "print_pyramid(10)"
   ]
  },
  {
   "cell_type": "markdown",
   "metadata": {},
   "source": [
    "# 2. 문자 빈도수 출력 - 모듈 사용X"
   ]
  },
  {
   "cell_type": "code",
   "execution_count": null,
   "metadata": {},
   "outputs": [],
   "source": [
    "string = \"Fxdi12nD4FI64GNQ34IPZ701NOEtoaCGIYJXBb0abCA18CC345AacbbBB67AbC\""
   ]
  },
  {
   "cell_type": "markdown",
   "metadata": {},
   "source": [
    "string에서 알파벳을 빈도순으로 출력하시오.(숫자 제외, 대소문자 구분 없음)"
   ]
  },
  {
   "cell_type": "code",
   "execution_count": null,
   "metadata": {},
   "outputs": [],
   "source": [
    "alphabets = ''.join(s for s in string if not s.isnumeric())\n",
    "print (alphabets)"
   ]
  },
  {
   "cell_type": "code",
   "execution_count": null,
   "metadata": {},
   "outputs": [],
   "source": [
    "upper = alphabets.upper()\n",
    "print (upper)"
   ]
  },
  {
   "cell_type": "code",
   "execution_count": null,
   "metadata": {},
   "outputs": [],
   "source": [
    "dictionary = dict()\n",
    "\n",
    "for u in upper:\n",
    "    if u not in dictionary:\n",
    "        dictionary[u] = 1\n",
    "    else:\n",
    "        dictionary[u] += 1"
   ]
  },
  {
   "cell_type": "markdown",
   "metadata": {},
   "source": [
    "sorted()\n",
    "- iterable 한 객체(__iter__() 또는 __getitem__())를 정렬해주는 파이썬 내장함수\n",
    "- key 파라미터에는 함수가 와야함\n",
    "- iterable 한 객체의 항목들이 하나씩 key 함수에 전달\n",
    "- 정렬 후 새로운 리스트를 반환"
   ]
  },
  {
   "cell_type": "code",
   "execution_count": null,
   "metadata": {},
   "outputs": [],
   "source": [
    "print (sorted(dictionary.items(), key=lambda x:x[1], reverse=True))"
   ]
  },
  {
   "cell_type": "markdown",
   "metadata": {},
   "source": [
    "# 3. 거듭제곱 하기"
   ]
  },
  {
   "cell_type": "code",
   "execution_count": null,
   "metadata": {},
   "outputs": [],
   "source": [
    "x = [1,2,3]\n",
    "y = [2,3,4]"
   ]
  },
  {
   "cell_type": "markdown",
   "metadata": {},
   "source": [
    "x의 원소를 밑으로하고, y의 원소를 지수로 하는 거듭제곱의 리스트를 생성하시오.\n",
    "[1^2, 2^3, 3^4]"
   ]
  },
  {
   "cell_type": "code",
   "execution_count": null,
   "metadata": {},
   "outputs": [],
   "source": [
    "list(map(pow,x,y))"
   ]
  }
 ],
 "metadata": {
  "anaconda-cloud": {},
  "kernelspec": {
   "display_name": "Python [conda root]",
   "language": "python",
   "name": "conda-root-py"
  },
  "language_info": {
   "codemirror_mode": {
    "name": "ipython",
    "version": 3
   },
   "file_extension": ".py",
   "mimetype": "text/x-python",
   "name": "python",
   "nbconvert_exporter": "python",
   "pygments_lexer": "ipython3",
   "version": "3.5.2"
  }
 },
 "nbformat": 4,
 "nbformat_minor": 1
}
