{
 "cells": [
  {
   "cell_type": "markdown",
   "metadata": {},
   "source": [
    "# Hello World in Python"
   ]
  },
  {
   "cell_type": "code",
   "execution_count": null,
   "metadata": {},
   "outputs": [],
   "source": [
    "# 출력\n",
    "print (\"Hello, World!\")"
   ]
  },
  {
   "cell_type": "markdown",
   "metadata": {},
   "source": [
    "# Python as calculator"
   ]
  },
  {
   "cell_type": "code",
   "execution_count": null,
   "metadata": {},
   "outputs": [],
   "source": [
    "# 덧셈\n",
    "1 + 1"
   ]
  },
  {
   "cell_type": "code",
   "execution_count": null,
   "metadata": {},
   "outputs": [],
   "source": [
    "# 뺄셈\n",
    "130 - 2.0  "
   ]
  },
  {
   "cell_type": "code",
   "execution_count": null,
   "metadata": {},
   "outputs": [],
   "source": [
    "# 나눗셈\n",
    "130 / 2    "
   ]
  },
  {
   "cell_type": "code",
   "execution_count": null,
   "metadata": {},
   "outputs": [],
   "source": [
    "# 나눗셈\n",
    "131 / 2  "
   ]
  },
  {
   "cell_type": "code",
   "execution_count": null,
   "metadata": {},
   "outputs": [],
   "source": [
    "# 곱셈\n",
    "2 * 3"
   ]
  },
  {
   "cell_type": "code",
   "execution_count": null,
   "metadata": {},
   "outputs": [],
   "source": [
    "# 거듭제곱\n",
    "2 ** 3"
   ]
  },
  {
   "cell_type": "code",
   "execution_count": null,
   "metadata": {},
   "outputs": [],
   "source": [
    "# 나머지\n",
    "10 % 3"
   ]
  },
  {
   "cell_type": "markdown",
   "metadata": {},
   "source": [
    "# Python indentations\n",
    "Python uses indentation to indicate a block of code, while many languages like C/C++, Java uses {, } symbols."
   ]
  },
  {
   "cell_type": "code",
   "execution_count": null,
   "metadata": {},
   "outputs": [],
   "source": [
    "if 5 > 2:\n",
    "    print(\"Hello, World\")\n",
    "    print(\"Five is bigger than Two.\")"
   ]
  },
  {
   "cell_type": "code",
   "execution_count": null,
   "metadata": {},
   "outputs": [],
   "source": [
    "if 5 > 2:\n",
    "print(\"Hello, World\")\n",
    "print(\"Five is bigger than Two.\")"
   ]
  },
  {
   "cell_type": "markdown",
   "metadata": {},
   "source": [
    "# Python variable types\n",
    "\n",
    "지금부터 다양한 Python의 변수 type들을 배워보자.\n",
    "\n",
    "기억할 점은, Python의 모든 변수(variable)은 클래스로 정의된 객체라는 점이다. "
   ]
  },
  {
   "cell_type": "code",
   "execution_count": null,
   "metadata": {},
   "outputs": [],
   "source": [
    "x = 5\n",
    "y = 2.5\n",
    "z = \"John\"\n",
    "print(x)\n",
    "print(x+y)\n",
    "print(z)"
   ]
  },
  {
   "cell_type": "code",
   "execution_count": null,
   "metadata": {},
   "outputs": [],
   "source": [
    "print ('His name is', z)"
   ]
  },
  {
   "cell_type": "markdown",
   "metadata": {},
   "source": [
    "## 1. Python Numbers\n",
    "\n",
    "Python에는 세 가지 수치 타입이 있다.\n",
    "\n",
    "- 정수형(integer)인 int.\n",
    "- 소수형(floating number)인 float\n",
    "- 복소수형(complex number)인 complex"
   ]
  },
  {
   "cell_type": "code",
   "execution_count": null,
   "metadata": {},
   "outputs": [],
   "source": [
    "x = 1 # int\n",
    "y = 2.8 # float\n",
    "z = 2 + 1j # complex"
   ]
  },
  {
   "cell_type": "code",
   "execution_count": null,
   "metadata": {},
   "outputs": [],
   "source": [
    "print(type(x))\n",
    "print(type(y))\n",
    "print(type(z))"
   ]
  },
  {
   "cell_type": "markdown",
   "metadata": {},
   "source": [
    "## 2. String"
   ]
  },
  {
   "cell_type": "code",
   "execution_count": null,
   "metadata": {},
   "outputs": [],
   "source": [
    "a = \"Hello, World!\"\n",
    "print(type(a))\n",
    "print(a[0], a[1], a[2], a[3], a[4])"
   ]
  },
  {
   "cell_type": "code",
   "execution_count": null,
   "metadata": {},
   "outputs": [],
   "source": [
    "a = \"Hello, World!\"\n",
    "print(a.lower())"
   ]
  },
  {
   "cell_type": "code",
   "execution_count": null,
   "metadata": {},
   "outputs": [],
   "source": [
    "a = \"Hello, World!\"\n",
    "print(a.upper())"
   ]
  },
  {
   "cell_type": "code",
   "execution_count": null,
   "metadata": {},
   "outputs": [],
   "source": [
    "a = \"Hello, World!\"\n",
    "print(a.split(\",\"))"
   ]
  },
  {
   "cell_type": "code",
   "execution_count": null,
   "metadata": {},
   "outputs": [],
   "source": [
    "a = \"Hello, Warld!\"\n",
    "a[8] = 'o' # I want to change 'a' to 'o' : impossible (String : immutable object)"
   ]
  },
  {
   "cell_type": "markdown",
   "metadata": {},
   "source": [
    "## 3. List"
   ]
  },
  {
   "cell_type": "code",
   "execution_count": null,
   "metadata": {},
   "outputs": [],
   "source": [
    "thislist = [1, 2, 3]\n",
    "print(thislist)\n",
    "print(type(thislist))\n",
    "print(\"index 0 :\" , thislist[0], \n",
    "      \"index 1 :\" , thislist[1], \n",
    "      \"index 2 :\" , thislist[2])"
   ]
  },
  {
   "cell_type": "code",
   "execution_count": null,
   "metadata": {},
   "outputs": [],
   "source": [
    "thislist = [\"apple\", \"banana\", \"cherry\"]\n",
    "print(thislist)\n",
    "print(type(thislist))\n",
    "print(\"index 0 :\" , thislist[0], \n",
    "      \"index 1 :\" , thislist[1], \n",
    "      \"index 2 :\" , thislist[2])"
   ]
  },
  {
   "cell_type": "code",
   "execution_count": null,
   "metadata": {},
   "outputs": [],
   "source": [
    "thislist = [1, \"banana\", [1]]\n",
    "thislist[2] = [1,2,3,4]\n",
    "print(thislist)\n",
    "print(type(thislist))\n",
    "print(\"index 0 :\" , thislist[0], \n",
    "      \"index 1 :\" , thislist[1], \n",
    "      \"index 2 :\" , thislist[2])"
   ]
  },
  {
   "cell_type": "markdown",
   "metadata": {},
   "source": [
    "### 3-1. List slicing"
   ]
  },
  {
   "cell_type": "code",
   "execution_count": null,
   "metadata": {},
   "outputs": [],
   "source": [
    "# How to slice our list?\n",
    "\n",
    "thislist = [1, 2, 3, 4, 5 ,6, 7, 8, 9, 10]\n",
    "\n",
    "# 3th ~ 6th elements ( new list will have 4 elements)\n",
    "# correct answer : [3, 4, 5, 6]\n",
    "\n",
    "newlist = thislist[2:6]\n",
    "print(newlist)"
   ]
  },
  {
   "cell_type": "code",
   "execution_count": null,
   "metadata": {},
   "outputs": [],
   "source": [
    "anotherlist = [3, 5, 7, 9, 11 ,13, 15, 17, 19]\n",
    "\n",
    "# 4th ~ 8th elements ( new list will have 5 elements)\n",
    "# correct answer : [9, 11, 13, 15, 17]\n",
    "\n",
    "start = \n",
    "end = \n",
    "newlist = anotherlist[ start : end ]\n",
    "print(newlist)"
   ]
  },
  {
   "cell_type": "markdown",
   "metadata": {},
   "source": [
    "## 4. tuple"
   ]
  },
  {
   "cell_type": "code",
   "execution_count": null,
   "metadata": {},
   "outputs": [],
   "source": [
    "thistuple = (\"apple\", \"banana\", \"cherry\")\n",
    "print(thistuple)\n",
    "print(type(thistuple))"
   ]
  },
  {
   "cell_type": "code",
   "execution_count": null,
   "metadata": {},
   "outputs": [],
   "source": [
    "thistuple = (\"apple\", \"banana\", \"cherry\")\n",
    "print(thistuple[1])"
   ]
  },
  {
   "cell_type": "markdown",
   "metadata": {},
   "source": [
    "tuple은 list와 동일하게 element에 접근할 수 있다. 그러나 element의 변경을 허용하지 않도록 의도할 때 list 대신 사용한다."
   ]
  },
  {
   "cell_type": "code",
   "execution_count": null,
   "metadata": {},
   "outputs": [],
   "source": [
    "thistuple = (\"apple\", \"banana\", \"cherry\")\n",
    "thistuple[1] = \"blackcurrant\"\n",
    "# The values will remain the same:\n",
    "print(thistuple)"
   ]
  },
  {
   "cell_type": "markdown",
   "metadata": {},
   "source": [
    "## 5. dictionary"
   ]
  },
  {
   "cell_type": "markdown",
   "metadata": {},
   "source": [
    "Dictionary는 key와 value를 한 쌍으로 가지는 element들의 집합이다."
   ]
  },
  {
   "cell_type": "code",
   "execution_count": null,
   "metadata": {},
   "outputs": [],
   "source": [
    "thisdict = {\n",
    "  \"brand\": \"Ford\",\n",
    "  \"model\": \"Mustang\",\n",
    "  \"year\": 1964\n",
    "}\n",
    "print(thisdict)\n",
    "print(type(thisdict))"
   ]
  },
  {
   "cell_type": "code",
   "execution_count": null,
   "metadata": {},
   "outputs": [],
   "source": [
    "x = thisdict[\"model\"]\n",
    "print('value :', x)"
   ]
  },
  {
   "cell_type": "markdown",
   "metadata": {},
   "source": [
    "## 6. Set"
   ]
  },
  {
   "cell_type": "markdown",
   "metadata": {},
   "source": [
    "중복을 허용하지 않고 순서가 없다. / 집합에 관련된 것들을 쉽게 처리하기 위해 만들어진 자료형"
   ]
  },
  {
   "cell_type": "code",
   "execution_count": null,
   "metadata": {},
   "outputs": [],
   "source": [
    "print ({1,1,2,3,3,4})\n",
    "print ({'a',1,2,1,\"a\",\"b\",True})"
   ]
  },
  {
   "cell_type": "code",
   "execution_count": null,
   "metadata": {},
   "outputs": [],
   "source": [
    "# from tuple\n",
    "set((1,1,2,3,3,4))"
   ]
  },
  {
   "cell_type": "code",
   "execution_count": null,
   "metadata": {},
   "outputs": [],
   "source": [
    "# from list\n",
    "set([1,1,2,3,3,4])"
   ]
  },
  {
   "cell_type": "code",
   "execution_count": null,
   "metadata": {},
   "outputs": [],
   "source": [
    "# from dictionary\n",
    "set({'a':1, 'b':2, 'c':3})"
   ]
  },
  {
   "cell_type": "code",
   "execution_count": null,
   "metadata": {},
   "outputs": [],
   "source": [
    "s1 = set([1, 2, 3, 4, 5, 6])\n",
    "s2 = set([4, 5, 6, 7, 8, 9])\n",
    "\n",
    "print (s1.intersection(s2)) # s1 & s2\n",
    "print (s1.union(s2)) # s1 | s2\n",
    "print (s1.difference(s2)) # s1 - s2"
   ]
  },
  {
   "cell_type": "markdown",
   "metadata": {},
   "source": [
    "### 6-1. Set VS List"
   ]
  },
  {
   "cell_type": "code",
   "execution_count": null,
   "metadata": {},
   "outputs": [],
   "source": [
    "import time \n",
    "l = list(range(1000000))\n",
    "s = set(l)\n",
    "\n",
    "start = time.time()\n",
    "if 99999 in l:\n",
    "    print ('list performance :', time.time() - start)\n",
    "\n",
    "start = time.time()\n",
    "if 99999 in s:\n",
    "    print ('set performance :', time.time() - start)"
   ]
  },
  {
   "cell_type": "markdown",
   "metadata": {},
   "source": [
    "## 7. Boolean"
   ]
  },
  {
   "cell_type": "markdown",
   "metadata": {},
   "source": [
    "참(True)과 거짓(False)을 나타내는 자료형으로 무엇인가를 판단할 때 사용"
   ]
  },
  {
   "cell_type": "code",
   "execution_count": null,
   "metadata": {},
   "outputs": [],
   "source": [
    "print (type(True))\n",
    "print (type(False))"
   ]
  },
  {
   "cell_type": "markdown",
   "metadata": {},
   "source": [
    "# Control statement"
   ]
  },
  {
   "cell_type": "markdown",
   "metadata": {},
   "source": [
    "비교 연산자 : 참/거짓을 판단하기 위해 사용되며 참일 경우 True, 거짓일 경우 False를 반환"
   ]
  },
  {
   "cell_type": "code",
   "execution_count": null,
   "metadata": {},
   "outputs": [],
   "source": [
    "print (True == 1)\n",
    "print (False == 0)\n",
    "print (True == False)\n",
    "print (2 >= 0)\n",
    "print (1 != 2)"
   ]
  },
  {
   "cell_type": "markdown",
   "metadata": {},
   "source": [
    "논리 연산자 (and : 모두 참이여야 참 / or : 하나라도 참이면 참 / not : 반대)"
   ]
  },
  {
   "cell_type": "code",
   "execution_count": null,
   "metadata": {},
   "outputs": [],
   "source": [
    "print (True and True)\n",
    "print (1==1 and 2==2)\n",
    "print (True or False)\n",
    "print (1==1 or 1==2)\n",
    "print (not True)"
   ]
  },
  {
   "cell_type": "markdown",
   "metadata": {},
   "source": [
    "## 1. Conditional statement \n",
    "조건에 따라 다른 Action을 실행"
   ]
  },
  {
   "cell_type": "markdown",
   "metadata": {},
   "source": [
    "#### if 문 : 조건 검사 후 True 이면 실행"
   ]
  },
  {
   "cell_type": "code",
   "execution_count": null,
   "metadata": {},
   "outputs": [],
   "source": [
    "a = 10\n",
    "b = 1\n",
    "\n",
    "if a > b:\n",
    "    print ('a is greater than b')\n",
    "\n",
    "if a < b:\n",
    "    print ('a is smaller than b')"
   ]
  },
  {
   "cell_type": "markdown",
   "metadata": {},
   "source": [
    "#### elif 문 : if 문이 false 이고, 다른 추가적인 조건을 줄 때 사용"
   ]
  },
  {
   "cell_type": "code",
   "execution_count": null,
   "metadata": {},
   "outputs": [],
   "source": [
    "a = 10\n",
    "b = 10\n",
    "\n",
    "if a > b:\n",
    "    print ('a is greater than b')\n",
    "elif a == b:\n",
    "    print ('a is equal to b')"
   ]
  },
  {
   "cell_type": "markdown",
   "metadata": {},
   "source": [
    "#### else 문 : if 문과 elif 문 검사 후, 둘 다 false 일 때 실행"
   ]
  },
  {
   "cell_type": "code",
   "execution_count": null,
   "metadata": {},
   "outputs": [],
   "source": [
    "a = 1\n",
    "b = 10\n",
    "\n",
    "if a > b:\n",
    "    print ('a is greater than b')\n",
    "elif a == b:\n",
    "    print ('a is equal to b')\n",
    "else:\n",
    "    print ('a is smaller than b')"
   ]
  },
  {
   "cell_type": "code",
   "execution_count": null,
   "metadata": {},
   "outputs": [],
   "source": [
    "name = \"Damian\"\n",
    "age = 22\n",
    "\n",
    "if age < 10:\n",
    "    pass\n",
    "elif name == 'Damian' and age < 20:\n",
    "    print(\"Damian is a teenager\")\n",
    "elif age > 30:\n",
    "    print(\"Damian is an uncle\")\n",
    "else: \n",
    "    print(\"Damian is awesome!!!\")"
   ]
  },
  {
   "cell_type": "markdown",
   "metadata": {},
   "source": [
    "#### in 연산자 : 순환가능한 객체 내에 특정 element가 존재하는지 확인 "
   ]
  },
  {
   "cell_type": "code",
   "execution_count": null,
   "metadata": {},
   "outputs": [],
   "source": [
    "\"apple\" in [\"apple\", \"banana\", \"cherry\"]"
   ]
  },
  {
   "cell_type": "code",
   "execution_count": null,
   "metadata": {},
   "outputs": [],
   "source": [
    "\"apple\" in [\"APPLE\", \"banana\", \"cherry\"]"
   ]
  },
  {
   "cell_type": "markdown",
   "metadata": {},
   "source": [
    "#### is 연산자 : 같은 객체인지 확인  /  == : 값들이 같은지 확인"
   ]
  },
  {
   "cell_type": "code",
   "execution_count": null,
   "metadata": {},
   "outputs": [],
   "source": [
    "x = [1,2,3]\n",
    "y = [1,2,3]\n",
    "\n",
    "print (x == y)\n",
    "print (x is y)\n",
    "print (\"x id :\", id(x))\n",
    "print (\"y id :\", id(y))"
   ]
  },
  {
   "cell_type": "markdown",
   "metadata": {},
   "source": [
    "## 2. Looping statement\n",
    "반복하여 Action을 실행"
   ]
  },
  {
   "cell_type": "markdown",
   "metadata": {},
   "source": [
    "#### for 문 : 순환가능한 객체에 차례로 접근"
   ]
  },
  {
   "cell_type": "code",
   "execution_count": null,
   "metadata": {},
   "outputs": [],
   "source": [
    "for i in 'cat':\n",
    "    print (i)"
   ]
  },
  {
   "cell_type": "code",
   "execution_count": null,
   "metadata": {},
   "outputs": [],
   "source": [
    "for i in [1,2,3]:\n",
    "    print (i)"
   ]
  },
  {
   "cell_type": "code",
   "execution_count": null,
   "metadata": {},
   "outputs": [],
   "source": [
    "for i in (10,20,30):\n",
    "    print (i)"
   ]
  },
  {
   "cell_type": "code",
   "execution_count": null,
   "metadata": {},
   "outputs": [],
   "source": [
    "for i in {'name':'Damian', 'age':22}:\n",
    "    print (i)"
   ]
  },
  {
   "cell_type": "code",
   "execution_count": null,
   "metadata": {},
   "outputs": [],
   "source": [
    "for x in range(10): # 순차적으로 증가/감소하는 숫자 생성\n",
    "    print(x)"
   ]
  },
  {
   "cell_type": "code",
   "execution_count": null,
   "metadata": {},
   "outputs": [],
   "source": [
    "import sys\n",
    "\n",
    "print ('memory for range(10) : ' , sys.getsizeof(range(10)))\n",
    "print ('memory for range(100) : ' , sys.getsizeof(range(100)))\n",
    "print ('memory for list(10) : ', sys.getsizeof(list(range(10))))\n",
    "print ('memory for list(100) : ', sys.getsizeof(list(range(100))))"
   ]
  },
  {
   "cell_type": "markdown",
   "metadata": {},
   "source": [
    "#### while 문 : 조건문이 참인 동안 실행"
   ]
  },
  {
   "cell_type": "code",
   "execution_count": null,
   "metadata": {},
   "outputs": [],
   "source": [
    "count = 0\n",
    "while count < 5:\n",
    "    print(count)\n",
    "    count += 1"
   ]
  },
  {
   "cell_type": "markdown",
   "metadata": {},
   "source": [
    "#### break 문 : 가장 내부의 반복문 빠져나감\n",
    "#### continue 문 : 다음 순환을 실행\n",
    "#### else : break 만나지 않고 정상적으로 반복문이 종료되었을때 실행"
   ]
  },
  {
   "cell_type": "code",
   "execution_count": null,
   "metadata": {},
   "outputs": [],
   "source": [
    "for i in range(1,11):\n",
    "    if i > 5 :\n",
    "        break \n",
    "    print (i)\n",
    "else : \n",
    "    print (\"Exit without break\")"
   ]
  },
  {
   "cell_type": "code",
   "execution_count": null,
   "metadata": {},
   "outputs": [],
   "source": [
    "for i in range(1,11):\n",
    "    if i % 2 == 0 :\n",
    "        continue \n",
    "    print (i)\n",
    "else : \n",
    "    print (\"Exit without break\")"
   ]
  },
  {
   "cell_type": "markdown",
   "metadata": {},
   "source": [
    "# Module\n",
    "함수, 변수, 클래스 들을 모아 놓은 파일 (.py)"
   ]
  },
  {
   "cell_type": "markdown",
   "metadata": {},
   "source": [
    "## 1. sys module"
   ]
  },
  {
   "cell_type": "code",
   "execution_count": null,
   "metadata": {},
   "outputs": [],
   "source": [
    "import sys\n",
    "sys.path # 파이썬 모듈들이 저장된 위치"
   ]
  },
  {
   "cell_type": "markdown",
   "metadata": {},
   "source": [
    "sys.path.append(\"내가 만든 모듈이 있는 디렉토리\") : 디렉토리 추가"
   ]
  },
  {
   "cell_type": "markdown",
   "metadata": {},
   "source": [
    "## 2. os module"
   ]
  },
  {
   "cell_type": "code",
   "execution_count": null,
   "metadata": {},
   "outputs": [],
   "source": [
    "import os\n",
    "os.getcwd() # 현재 디렉토리 확인"
   ]
  },
  {
   "cell_type": "markdown",
   "metadata": {},
   "source": [
    "os.environ : 시스템 환경 변수 확인\n",
    " \n",
    "os.listdir(\"특정 디렉토리\") : 특정 디렉토리에 있는 모든 파일\n",
    "\n",
    "os.path.dirname(os.path.abspath(__file__)) : 해당 파일이 존재하는 디렉토리"
   ]
  },
  {
   "cell_type": "markdown",
   "metadata": {},
   "source": [
    "## 3. time module"
   ]
  },
  {
   "cell_type": "code",
   "execution_count": null,
   "metadata": {},
   "outputs": [],
   "source": [
    "import time\n",
    "time.strftime('%c', time.localtime(time.time()))"
   ]
  },
  {
   "cell_type": "markdown",
   "metadata": {},
   "source": [
    "# Function\n",
    "함수(Function)은 호출됐을 때만 실행되는 code block을 말한다. 우리는 function에 적절한 input을 주어 결과로서 처리된 output을 얻을 수 있다."
   ]
  },
  {
   "cell_type": "code",
   "execution_count": null,
   "metadata": {},
   "outputs": [],
   "source": [
    "# Creating a Function\n",
    "def my_function():\n",
    "    print(\"Hello, this is my first function\")"
   ]
  },
  {
   "cell_type": "code",
   "execution_count": null,
   "metadata": {},
   "outputs": [],
   "source": [
    "# Calling a Function\n",
    "my_function()"
   ]
  },
  {
   "cell_type": "code",
   "execution_count": null,
   "metadata": {},
   "outputs": [],
   "source": [
    "# function은 input을 받아 output을 return한다.\n",
    "def my_function(x):\n",
    "    return x*2\n",
    "\n",
    "print(my_function(2))\n",
    "print(my_function(4))\n",
    "print(my_function(7))"
   ]
  },
  {
   "cell_type": "code",
   "execution_count": null,
   "metadata": {},
   "outputs": [],
   "source": [
    "# function을 통해 input에 따른 더 복잡한 형태의 처리도 가능하다.\n",
    "def my_function(x):\n",
    "    if x < 3:\n",
    "        output = x*2\n",
    "    elif x < 5:\n",
    "        output = x*3\n",
    "    else:\n",
    "        output = x*4\n",
    "    return output\n",
    "\n",
    "print(my_function(2))\n",
    "print(my_function(4))\n",
    "print(my_function(7))"
   ]
  }
 ],
 "metadata": {
  "anaconda-cloud": {},
  "kernelspec": {
   "display_name": "Python [conda root]",
   "language": "python",
   "name": "conda-root-py"
  },
  "language_info": {
   "codemirror_mode": {
    "name": "ipython",
    "version": 3
   },
   "file_extension": ".py",
   "mimetype": "text/x-python",
   "name": "python",
   "nbconvert_exporter": "python",
   "pygments_lexer": "ipython3",
   "version": "3.5.2"
  }
 },
 "nbformat": 4,
 "nbformat_minor": 2
}
