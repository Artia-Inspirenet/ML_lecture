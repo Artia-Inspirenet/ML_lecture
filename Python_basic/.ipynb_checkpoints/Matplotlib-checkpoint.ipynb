{
 "cells": [
  {
   "cell_type": "markdown",
   "metadata": {},
   "source": [
    "# Matplotlib : python data visualization"
   ]
  },
  {
   "cell_type": "code",
   "execution_count": null,
   "metadata": {},
   "outputs": [],
   "source": [
    "import matplotlib.pyplot as plt\n",
    "import numpy as np\n",
    "\n",
    "%matplotlib inline"
   ]
  },
  {
   "cell_type": "markdown",
   "metadata": {},
   "source": [
    "## The Matplotlib Object Hierarchy\n",
    "- Figure : outermost container for a matplotlib graph\n",
    "- Axes : individual plot or graph"
   ]
  },
  {
   "cell_type": "markdown",
   "metadata": {},
   "source": [
    "![title](matplotlib_image.png)"
   ]
  },
  {
   "cell_type": "markdown",
   "metadata": {},
   "source": [
    "## How to add axes?\n",
    "###### Method 1) add_axes([left, bottom, width, height) : the axes object is positioned in absolute coordinates\n",
    "###### Method 2) add_subplot(# of row, # of cols, plot #) : the axes to be situated according to a subplot grid"
   ]
  },
  {
   "cell_type": "code",
   "execution_count": null,
   "metadata": {},
   "outputs": [],
   "source": [
    "fig = plt.figure()\n",
    "\n",
    "ax = fig.add_axes([0,0,1,1])\n",
    "ax.scatter(np.linspace(0, 1, 5), np.linspace(0, 5, 5))\n",
    "\n",
    "plt.show()"
   ]
  },
  {
   "cell_type": "code",
   "execution_count": null,
   "metadata": {},
   "outputs": [],
   "source": [
    "fig = plt.figure()\n",
    "\n",
    "ax = fig.add_subplot(111)\n",
    "ax.scatter(np.linspace(0, 1, 5), np.linspace(0, 5, 5))\n",
    "\n",
    "plt.show()"
   ]
  },
  {
   "cell_type": "code",
   "execution_count": null,
   "metadata": {},
   "outputs": [],
   "source": [
    "fig = plt.figure()\n",
    "\n",
    "ax1 = fig.add_axes([0,0,1,1])\n",
    "ax1.scatter(np.linspace(0, 1, 5), np.linspace(0, 5, 5))\n",
    "\n",
    "ax2 = fig.add_axes([0.5,0.5,2,2])\n",
    "ax2.scatter(np.linspace(0, 2, 10), np.linspace(0, 10, 10))\n",
    "\n",
    "plt.show()"
   ]
  },
  {
   "cell_type": "code",
   "execution_count": null,
   "metadata": {},
   "outputs": [],
   "source": [
    "fig = plt.figure()\n",
    "\n",
    "ax1 = fig.add_subplot(2,2,2)\n",
    "ax1.scatter(np.linspace(0, 1, 5), np.linspace(0, 5, 5))\n",
    "\n",
    "ax2 = fig.add_subplot(2,2,3)\n",
    "ax2.scatter(np.linspace(0, 2, 10), np.linspace(0, 10, 10))\n",
    "\n",
    "plt.show()"
   ]
  },
  {
   "cell_type": "markdown",
   "metadata": {},
   "source": [
    "## How To Change The Size of Figures"
   ]
  },
  {
   "cell_type": "code",
   "execution_count": null,
   "metadata": {},
   "outputs": [],
   "source": [
    "fig = plt.figure(figsize=(20,10))\n",
    "ax1 = fig.add_subplot(121)\n",
    "ax2 = fig.add_subplot(122)\n",
    "\n",
    "ax1.bar([1,2,3],[3,4,5])\n",
    "ax2.barh([0.5,1,2.5],[0,1,2])\n",
    "\n",
    "plt.show()"
   ]
  },
  {
   "cell_type": "code",
   "execution_count": null,
   "metadata": {},
   "outputs": [],
   "source": [
    "fig, (ax1, ax2) = plt.subplots(1,2, figsize=(20,10))\n",
    "\n",
    "ax1.bar([1,2,3],[3,4,5])\n",
    "ax2.barh([0.5,1,2.5],[0,1,2])\n",
    "\n",
    "plt.show()"
   ]
  },
  {
   "cell_type": "markdown",
   "metadata": {},
   "source": [
    "## Options"
   ]
  },
  {
   "cell_type": "code",
   "execution_count": null,
   "metadata": {},
   "outputs": [],
   "source": [
    "fig, (ax1, ax2) = plt.subplots(1,2, figsize=(20,10))\n",
    "\n",
    "ax1.bar([1,2,3],[3,4,5], color='r')\n",
    "ax1.set_title('vertical bar plot')\n",
    "ax1.set_xlabel('x')\n",
    "ax1.set_ylabel('y')\n",
    "ax1.legend(['axes1'])\n",
    "ax1.set_ylim([0,10])\n",
    "\n",
    "ax2.barh([0.5,1,2.5],[0,1,2], color='g')\n",
    "ax2.set_title('horizontal bar plot')\n",
    "ax2.set_xlabel('x')\n",
    "ax2.set_ylabel('y')\n",
    "ax2.legend(['axes2'])\n",
    "ax2.set_xlim([0,3])\n",
    "\n",
    "plt.show()\n",
    "fig.savefig('test.png')"
   ]
  },
  {
   "cell_type": "markdown",
   "metadata": {},
   "source": [
    "## Image"
   ]
  },
  {
   "cell_type": "code",
   "execution_count": null,
   "metadata": {},
   "outputs": [],
   "source": [
    "img = plt.imread('cat.jpg')\n",
    "plt.imshow(img)"
   ]
  }
 ],
 "metadata": {
  "anaconda-cloud": {},
  "kernelspec": {
   "display_name": "Python [conda root]",
   "language": "python",
   "name": "conda-root-py"
  },
  "language_info": {
   "codemirror_mode": {
    "name": "ipython",
    "version": 3
   },
   "file_extension": ".py",
   "mimetype": "text/x-python",
   "name": "python",
   "nbconvert_exporter": "python",
   "pygments_lexer": "ipython3",
   "version": "3.5.2"
  }
 },
 "nbformat": 4,
 "nbformat_minor": 1
}
