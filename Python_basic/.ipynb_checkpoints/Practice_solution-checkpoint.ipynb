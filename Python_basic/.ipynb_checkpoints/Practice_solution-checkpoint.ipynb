{
 "cells": [
  {
   "cell_type": "markdown",
   "metadata": {},
   "source": [
    "# 1. 문자 'A' 1000번 출력하기"
   ]
  },
  {
   "cell_type": "markdown",
   "metadata": {},
   "source": [
    "AAAAA.....A(1000번)을 출력하시오."
   ]
  },
  {
   "cell_type": "code",
   "execution_count": null,
   "metadata": {},
   "outputs": [],
   "source": [
    "print ('A'*1000)"
   ]
  },
  {
   "cell_type": "markdown",
   "metadata": {},
   "source": [
    "# 2. 문자 갯수 출력하기"
   ]
  },
  {
   "cell_type": "code",
   "execution_count": null,
   "metadata": {},
   "outputs": [],
   "source": [
    "string = 'AAAAAABBB BCCCCABC ABCCCCBBBBAA'"
   ]
  },
  {
   "cell_type": "markdown",
   "metadata": {},
   "source": [
    "string에서 A,B,C 각 문자의 갯수를 출력하시오."
   ]
  },
  {
   "cell_type": "code",
   "execution_count": null,
   "metadata": {},
   "outputs": [],
   "source": [
    "num_A = 0\n",
    "num_B = 0\n",
    "num_C = 0\n",
    "\n",
    "for s in string:\n",
    "    if s == 'A':\n",
    "        num_A += 1\n",
    "    elif s == 'B':\n",
    "        num_B += 1\n",
    "    elif s == 'C':\n",
    "        num_C += 1\n",
    "    else:\n",
    "        pass\n",
    "    \n",
    "print ('the number of A :', num_A)\n",
    "print ('the number of B :', num_B)\n",
    "print ('the number of C :', num_C)    "
   ]
  },
  {
   "cell_type": "code",
   "execution_count": null,
   "metadata": {
    "scrolled": true
   },
   "outputs": [],
   "source": [
    "print ('the number of A :', string.count('A'))\n",
    "print ('the number of B :', string.count('B'))\n",
    "print ('the number of C :', string.count('C'))"
   ]
  },
  {
   "cell_type": "markdown",
   "metadata": {},
   "source": [
    "# 3. 문자 빈도수 출력 - 모듈 사용"
   ]
  },
  {
   "cell_type": "code",
   "execution_count": null,
   "metadata": {},
   "outputs": [],
   "source": [
    "string = \"Fxdi12nD4FI64GNQ34IPZ701NOEtoaCGIYJXBb0abCA18CC345AacbbBB67AbC\""
   ]
  },
  {
   "cell_type": "markdown",
   "metadata": {},
   "source": [
    "string에서 알파벳을 빈도순으로 출력하시오.(숫자 제외, 대소문자 구분 없음)"
   ]
  },
  {
   "cell_type": "code",
   "execution_count": null,
   "metadata": {},
   "outputs": [],
   "source": [
    "alphabets = ''.join(s for s in string if not s.isnumeric())\n",
    "print (alphabets)"
   ]
  },
  {
   "cell_type": "code",
   "execution_count": null,
   "metadata": {},
   "outputs": [],
   "source": [
    "upper = alphabets.upper()\n",
    "print (upper)"
   ]
  },
  {
   "cell_type": "code",
   "execution_count": null,
   "metadata": {},
   "outputs": [],
   "source": [
    "from collections import Counter\n",
    "ordered_upper = Counter(upper).most_common()"
   ]
  },
  {
   "cell_type": "code",
   "execution_count": null,
   "metadata": {},
   "outputs": [],
   "source": [
    "for o in ordered_upper:\n",
    "    print (o)"
   ]
  },
  {
   "cell_type": "markdown",
   "metadata": {},
   "source": [
    "# 4. 리스트에서 원소 추가 및 제거하기"
   ]
  },
  {
   "cell_type": "code",
   "execution_count": null,
   "metadata": {},
   "outputs": [],
   "source": [
    "original_list = [1,2,3,4,5]"
   ]
  },
  {
   "cell_type": "markdown",
   "metadata": {},
   "source": [
    "added_six = [1,2,3,4,5,6] \n",
    "removed_one = [2,3,4,5]\n",
    "두 개의 리스트를 각각 생성하시오. (단, original_list를 변경하지 마시오.)"
   ]
  },
  {
   "cell_type": "code",
   "execution_count": null,
   "metadata": {},
   "outputs": [],
   "source": [
    "added_six = original_list[:]\n",
    "added_six.append(6)\n",
    "print (added_six)\n",
    "\n",
    "removed_one = original_list[:]\n",
    "removed_one.remove(1)\n",
    "print (removed_one)\n",
    "\n",
    "print (original_list)"
   ]
  },
  {
   "cell_type": "markdown",
   "metadata": {},
   "source": [
    "# 5. 리스트에서 원소별로 연산하기"
   ]
  },
  {
   "cell_type": "code",
   "execution_count": null,
   "metadata": {},
   "outputs": [],
   "source": [
    "L = [1,2,3,4,5,6,7,8,9,10]"
   ]
  },
  {
   "cell_type": "markdown",
   "metadata": {},
   "source": [
    "리스트 L에서 각 항목에 10을 더해 [11, 12, 13, 14, 15, 16, 17, 18, 19, 20]를 만드시오."
   ]
  },
  {
   "cell_type": "markdown",
   "metadata": {},
   "source": [
    "#### 방법 1) for 문 이용"
   ]
  },
  {
   "cell_type": "code",
   "execution_count": null,
   "metadata": {},
   "outputs": [],
   "source": [
    "result_list = []\n",
    "\n",
    "for i in L:\n",
    "    result_list.append(i+10)\n",
    "    \n",
    "print (result_list)"
   ]
  },
  {
   "cell_type": "code",
   "execution_count": null,
   "metadata": {},
   "outputs": [],
   "source": [
    "print ([x + 10 for x in L])"
   ]
  },
  {
   "cell_type": "code",
   "execution_count": null,
   "metadata": {},
   "outputs": [],
   "source": [
    "print (i) # 임시 변수 i 메모리에 남아 있음"
   ]
  },
  {
   "cell_type": "code",
   "execution_count": null,
   "metadata": {},
   "outputs": [],
   "source": [
    "print (x) # 임수 변수 x 메모리에서 삭제"
   ]
  },
  {
   "cell_type": "markdown",
   "metadata": {},
   "source": [
    "#### 방법 2) map 함수 이용\n",
    "- map(function, iterable typed object)\n",
    "- lambda 매개변수 : 반환값"
   ]
  },
  {
   "cell_type": "code",
   "execution_count": null,
   "metadata": {},
   "outputs": [],
   "source": [
    "def plus_ten(x):\n",
    "    return x+10"
   ]
  },
  {
   "cell_type": "code",
   "execution_count": null,
   "metadata": {},
   "outputs": [],
   "source": [
    "list(map(plus_ten, L))"
   ]
  },
  {
   "cell_type": "code",
   "execution_count": null,
   "metadata": {},
   "outputs": [],
   "source": [
    "# lambda function : simple and anonymous\n",
    "list(map(lambda x:x+10, L))"
   ]
  },
  {
   "cell_type": "markdown",
   "metadata": {},
   "source": [
    "# 6. 함수 생성하기"
   ]
  },
  {
   "cell_type": "code",
   "execution_count": null,
   "metadata": {},
   "outputs": [],
   "source": [
    "passwords = ['999Ok', '1q2W3e4R','correct123!', 'ghosdsh@']"
   ]
  },
  {
   "cell_type": "markdown",
   "metadata": {},
   "source": [
    "주어진 passwords 리스트에서 다음 비밀번호 조건에 맞지 않는 것들을 모두 출력하시오.\n",
    "- 6자리 이상일 것\n",
    "- 특수문자를 포함하지 않을 것\n",
    "- 영문 대,소 문자 최소 하나씩을 포함할 것\n",
    "- 숫자 + 영문으로 이루어 질 것"
   ]
  },
  {
   "cell_type": "code",
   "execution_count": null,
   "metadata": {},
   "outputs": [],
   "source": [
    "def check_password(pwds):\n",
    "    for pwd in pwds:\n",
    "\n",
    "        is_num = False\n",
    "        is_lower = False\n",
    "        is_upper = False\n",
    "        is_special_char = False\n",
    "\n",
    "        if len(pwd) < 6:\n",
    "            print (pwd)\n",
    "            continue\n",
    "\n",
    "        for c in pwd:\n",
    "            if c.isnumeric():\n",
    "                is_num = True\n",
    "            elif c.isalpha():\n",
    "                if c == c.lower():\n",
    "                    is_lower = True\n",
    "                else:\n",
    "                    is_upper = True\n",
    "            else:\n",
    "                is_special_char = True\n",
    "\n",
    "        if not is_num or not is_lower or not is_upper or is_special_char:\n",
    "            print (pwd)"
   ]
  },
  {
   "cell_type": "code",
   "execution_count": null,
   "metadata": {},
   "outputs": [],
   "source": [
    "check_password(passwords)"
   ]
  }
 ],
 "metadata": {
  "kernelspec": {
   "display_name": "Python [conda root]",
   "language": "python",
   "name": "conda-root-py"
  },
  "language_info": {
   "codemirror_mode": {
    "name": "ipython",
    "version": 3
   },
   "file_extension": ".py",
   "mimetype": "text/x-python",
   "name": "python",
   "nbconvert_exporter": "python",
   "pygments_lexer": "ipython3",
   "version": "3.5.2"
  }
 },
 "nbformat": 4,
 "nbformat_minor": 1
}
