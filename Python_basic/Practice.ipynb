{
 "cells": [
  {
   "cell_type": "code",
   "execution_count": 1,
   "metadata": {},
   "outputs": [],
   "source": [
    "import os\n",
    "\n",
    "working_dir = os.getcwd()\n",
    "file_name = 'Practice_hint.txt'\n",
    "\n",
    "file = os.path.join(working_dir, file_name)\n",
    "with open(file, 'r') as f:\n",
    "    hints = f.read().split('!')"
   ]
  },
  {
   "cell_type": "markdown",
   "metadata": {},
   "source": [
    "# 1. 문자 'A' 1000번 출력하기"
   ]
  },
  {
   "cell_type": "markdown",
   "metadata": {},
   "source": [
    "AAAAA.....A(1000번)을 출력하시오."
   ]
  },
  {
   "cell_type": "code",
   "execution_count": null,
   "metadata": {},
   "outputs": [],
   "source": [
    "##### Type Your Code Here #####\n",
    "\n",
    "print ()"
   ]
  },
  {
   "cell_type": "code",
   "execution_count": 2,
   "metadata": {},
   "outputs": [
    {
     "name": "stdout",
     "output_type": "stream",
     "text": [
      "<문자 'A' 1000번 출력하기>\n",
      "\n",
      "Number : 2 * 3 = 6 \n",
      "String : 'a' * 3 = 'aaa'\n",
      "List : [1,2,3] * 3 = [1, 2, 3, 1, 2, 3, 1, 2, 3]\n",
      "\n"
     ]
    }
   ],
   "source": [
    "##### Hint Here #####\n",
    "print (hints[0])"
   ]
  },
  {
   "cell_type": "markdown",
   "metadata": {},
   "source": [
    "# 2. 문자 갯수 출력하기"
   ]
  },
  {
   "cell_type": "code",
   "execution_count": 2,
   "metadata": {},
   "outputs": [],
   "source": [
    "string = 'AAAAAABBB BCCCCABC ABCCCCBBBBAA'"
   ]
  },
  {
   "cell_type": "markdown",
   "metadata": {},
   "source": [
    "string에서 A,B,C 각 문자의 갯수를 출력하시오."
   ]
  },
  {
   "cell_type": "code",
   "execution_count": null,
   "metadata": {},
   "outputs": [],
   "source": [
    "##### Type Your Code Here #####\n",
    "\n",
    "print ()"
   ]
  },
  {
   "cell_type": "code",
   "execution_count": 3,
   "metadata": {},
   "outputs": [
    {
     "name": "stdout",
     "output_type": "stream",
     "text": [
      "<문자 갯수 출력하기>\n",
      "\n",
      "string : iterable object\n",
      "\n",
      "반복문을 활용해 한 글자씩 접근(for 문)\n",
      "조건문을 활용해 해당 문자인지 확인(if 문)\n",
      "\n"
     ]
    }
   ],
   "source": [
    "##### Hint Here #####\n",
    "print (hints[1])"
   ]
  },
  {
   "cell_type": "markdown",
   "metadata": {},
   "source": [
    "# 3. 문자 빈도수 출력 - 모듈 사용"
   ]
  },
  {
   "cell_type": "code",
   "execution_count": null,
   "metadata": {},
   "outputs": [],
   "source": [
    "string = \"Fxdi12nD4FI64GNQ34IPZ701NOEtoaCGIYJXBb0abCA18CC345AacbbBB67AbC\""
   ]
  },
  {
   "cell_type": "markdown",
   "metadata": {},
   "source": [
    "string에서 알파벳을 빈도순으로 출력하시오.(숫자 제외, 대소문자 구분 없음)"
   ]
  },
  {
   "cell_type": "code",
   "execution_count": null,
   "metadata": {},
   "outputs": [],
   "source": [
    "##### Type Your Code Here #####\n",
    "\n",
    "print ()"
   ]
  },
  {
   "cell_type": "code",
   "execution_count": null,
   "metadata": {},
   "outputs": [],
   "source": [
    "##### Hint Here #####\n",
    "print (hints[2])"
   ]
  },
  {
   "cell_type": "markdown",
   "metadata": {},
   "source": [
    "# 4. 리스트에서 원소 추가 및 제거하기"
   ]
  },
  {
   "cell_type": "code",
   "execution_count": null,
   "metadata": {},
   "outputs": [],
   "source": [
    "original_list = [1,2,3,4,5]"
   ]
  },
  {
   "cell_type": "markdown",
   "metadata": {},
   "source": [
    "added_six = [1,2,3,4,5,6] \n",
    "removed_one = [2,3,4,5]\n",
    "두 개의 리스트를 각각 생성하시오. (단, original_list를 변경하지 마시오.)"
   ]
  },
  {
   "cell_type": "code",
   "execution_count": null,
   "metadata": {},
   "outputs": [],
   "source": [
    "##### Type Your Code Here #####\n",
    "\n",
    "print (added_six)\n",
    "print (removed_one)\n",
    "print (original_list)"
   ]
  },
  {
   "cell_type": "code",
   "execution_count": null,
   "metadata": {},
   "outputs": [],
   "source": [
    "##### Hint Here #####\n",
    "print (hints[3])"
   ]
  },
  {
   "cell_type": "markdown",
   "metadata": {},
   "source": [
    "# 5. 리스트에서 원소별로 연산하기"
   ]
  },
  {
   "cell_type": "code",
   "execution_count": null,
   "metadata": {},
   "outputs": [],
   "source": [
    "L = [1,2,3,4,5,6,7,8,9,10]"
   ]
  },
  {
   "cell_type": "markdown",
   "metadata": {},
   "source": [
    "리스트 L에서 각 항목에 10을 더해 [11, 12, 13, 14, 15, 16, 17, 18, 19, 20]를 만드시오."
   ]
  },
  {
   "cell_type": "markdown",
   "metadata": {},
   "source": [
    "#### 방법 1) for 문 이용"
   ]
  },
  {
   "cell_type": "code",
   "execution_count": null,
   "metadata": {},
   "outputs": [],
   "source": [
    "##### Type Your Code Here #####\n",
    "\n",
    "print ()"
   ]
  },
  {
   "cell_type": "markdown",
   "metadata": {},
   "source": [
    "#### 방법 2) map 함수 이용"
   ]
  },
  {
   "cell_type": "code",
   "execution_count": null,
   "metadata": {},
   "outputs": [],
   "source": [
    "##### Type Your Code Here #####\n",
    "\n",
    "print ()"
   ]
  },
  {
   "cell_type": "code",
   "execution_count": null,
   "metadata": {},
   "outputs": [],
   "source": [
    "##### Hint Here #####\n",
    "print (hints[4])"
   ]
  },
  {
   "cell_type": "markdown",
   "metadata": {},
   "source": [
    "# 6. 함수 생성하기"
   ]
  },
  {
   "cell_type": "code",
   "execution_count": null,
   "metadata": {},
   "outputs": [],
   "source": [
    "passwords = ['999Ok', '1q2W3e4R','correct123!', 'ghosdsh@']"
   ]
  },
  {
   "cell_type": "markdown",
   "metadata": {},
   "source": [
    "주어진 passwords 리스트에서 다음 비밀번호 조건에 맞지 않는 것들을 모두 출력하시오.\n",
    "- 6자리 이상일 것\n",
    "- 특수문자를 포함하지 않을 것\n",
    "- 영문 대,소 문자 최소 하나씩을 포함할 것\n",
    "- 숫자 + 영문으로 이루어 질 것"
   ]
  },
  {
   "cell_type": "code",
   "execution_count": null,
   "metadata": {},
   "outputs": [],
   "source": [
    "##### Type Your Code Here #####\n",
    "\n",
    "def check_password():\n",
    "    pass"
   ]
  },
  {
   "cell_type": "code",
   "execution_count": null,
   "metadata": {},
   "outputs": [],
   "source": [
    "##### Hint Here #####\n",
    "print (hints[5])"
   ]
  }
 ],
 "metadata": {
  "anaconda-cloud": {},
  "kernelspec": {
   "display_name": "Python [conda root]",
   "language": "python",
   "name": "conda-root-py"
  },
  "language_info": {
   "codemirror_mode": {
    "name": "ipython",
    "version": 3
   },
   "file_extension": ".py",
   "mimetype": "text/x-python",
   "name": "python",
   "nbconvert_exporter": "python",
   "pygments_lexer": "ipython3",
   "version": "3.5.2"
  }
 },
 "nbformat": 4,
 "nbformat_minor": 1
}
