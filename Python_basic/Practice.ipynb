{
 "cells": [
  {
   "cell_type": "code",
   "execution_count": 1,
   "metadata": {},
   "outputs": [],
   "source": [
    "import os\n",
    "\n",
    "working_dir = os.getcwd()\n",
    "file_name = 'Practice_hint.txt'\n",
    "\n",
    "file = os.path.join(working_dir, file_name)\n",
    "with open(file, 'r', encoding='utf8') as f:\n",
    "    hints = f.read().split('!')"
   ]
  },
  {
   "cell_type": "markdown",
   "metadata": {},
   "source": [
    "# 1. 문자 'A' 1000번 출력하기"
   ]
  },
  {
   "cell_type": "markdown",
   "metadata": {},
   "source": [
    "AAAAA.....A(1000번)을 출력하시오."
   ]
  },
  {
   "cell_type": "code",
   "execution_count": 2,
   "metadata": {},
   "outputs": [
    {
     "name": "stdout",
     "output_type": "stream",
     "text": [
      "\n"
     ]
    }
   ],
   "source": [
    "##### Type Your Code Here #####\n",
    "\n",
    "print ()"
   ]
  },
  {
   "cell_type": "code",
   "execution_count": 3,
   "metadata": {},
   "outputs": [
    {
     "name": "stdout",
     "output_type": "stream",
     "text": [
      "<문자 'A' 1000번 출력하기>\n",
      "\n",
      "Number : 2 * 3 = 6 \n",
      "String : 'a' * 3 = 'aaa'\n",
      "List : [1,2,3] * 3 = [1, 2, 3, 1, 2, 3, 1, 2, 3]\n",
      "\n"
     ]
    }
   ],
   "source": [
    "##### Hint Here #####\n",
    "print (hints[0])"
   ]
  },
  {
   "cell_type": "markdown",
   "metadata": {},
   "source": [
    "# 2. 문자 개수 출력하기"
   ]
  },
  {
   "cell_type": "code",
   "execution_count": 4,
   "metadata": {},
   "outputs": [],
   "source": [
    "string = 'AAAAAABBB BCCCCABC ABCCCCBBBBAA'"
   ]
  },
  {
   "cell_type": "markdown",
   "metadata": {},
   "source": [
    "string에서 A,B,C 각 문자의 개수를 출력하시오."
   ]
  },
  {
   "cell_type": "code",
   "execution_count": 5,
   "metadata": {},
   "outputs": [
    {
     "name": "stdout",
     "output_type": "stream",
     "text": [
      "0\n",
      "0\n",
      "0\n"
     ]
    }
   ],
   "source": [
    "##### 방법 1 반복/조건문 이용 #####\n",
    "num_A = 0\n",
    "num_B = 0\n",
    "num_C = 0\n",
    "\n",
    "  \n",
    "\n",
    "print (num_A)\n",
    "print (num_B)\n",
    "print (num_C)"
   ]
  },
  {
   "cell_type": "code",
   "execution_count": 6,
   "metadata": {},
   "outputs": [
    {
     "name": "stdout",
     "output_type": "stream",
     "text": [
      "0\n",
      "0\n",
      "0\n"
     ]
    }
   ],
   "source": [
    "##### 방법 2 count 함수 이용 #####\n",
    "\n",
    "\n",
    "\n",
    "print (num_A)\n",
    "print (num_B)\n",
    "print (num_C)"
   ]
  },
  {
   "cell_type": "code",
   "execution_count": 7,
   "metadata": {},
   "outputs": [
    {
     "name": "stdout",
     "output_type": "stream",
     "text": [
      "<문자 갯수 출력하기>\n",
      "\n",
      "string : iterable object\n",
      "\n",
      "반복문을 활용해 한 글자씩 접근(for 문)\n",
      "조건문을 활용해 해당 문자인지 확인(if 문)\n",
      "\n"
     ]
    }
   ],
   "source": [
    "##### Hint Here #####\n",
    "print (hints[1])"
   ]
  },
  {
   "cell_type": "markdown",
   "metadata": {},
   "source": [
    "# 3. 서로 다른 알파벳의 개수"
   ]
  },
  {
   "cell_type": "code",
   "execution_count": 8,
   "metadata": {},
   "outputs": [],
   "source": [
    "string = \"OSNpqptnpsdnfogqSDFOTOSDsdofbbzabcSTUEOEIQZbnw\""
   ]
  },
  {
   "cell_type": "markdown",
   "metadata": {},
   "source": [
    "string에서 서로 다른 알파벳의 개수를 출력하시오.(대소문자 구분 없음)"
   ]
  },
  {
   "cell_type": "code",
   "execution_count": 9,
   "metadata": {},
   "outputs": [
    {
     "name": "stdout",
     "output_type": "stream",
     "text": [
      "\n"
     ]
    }
   ],
   "source": [
    "##### Type Your Code Here #####\n",
    "\n",
    "print ()"
   ]
  },
  {
   "cell_type": "code",
   "execution_count": 10,
   "metadata": {},
   "outputs": [
    {
     "name": "stdout",
     "output_type": "stream",
     "text": [
      "<문자 빈도수 출력 - 모듈 사용>\n",
      "\n",
      "string : immutable object\n",
      "\n",
      "1.숫자 제거 (string.isnumeric() 이용)\n",
      "2.대문자 혹은 소문자로 통일(string.upper() / string.lower())\n",
      "\n"
     ]
    }
   ],
   "source": [
    "##### Hint Here #####\n",
    "print (hints[2])"
   ]
  },
  {
   "cell_type": "markdown",
   "metadata": {},
   "source": [
    "# 4. 리스트에서 원소 추가 및 제거하기"
   ]
  },
  {
   "cell_type": "code",
   "execution_count": null,
   "metadata": {},
   "outputs": [],
   "source": [
    "original_list = [1,2,3,4,5]"
   ]
  },
  {
   "cell_type": "markdown",
   "metadata": {},
   "source": [
    "added_six = [1,2,3,4,5,6] \n",
    "removed_one = [2,3,4,5]\n",
    "두 개의 리스트를 각각 생성하시오. (단, original_list를 변경하지 마시오.)"
   ]
  },
  {
   "cell_type": "code",
   "execution_count": null,
   "metadata": {},
   "outputs": [],
   "source": [
    "##### Type Your Code Here #####\n",
    "\n",
    "print (added_six)\n",
    "print (removed_one)\n",
    "print (original_list)"
   ]
  },
  {
   "cell_type": "code",
   "execution_count": null,
   "metadata": {},
   "outputs": [],
   "source": [
    "##### Hint Here #####\n",
    "print (hints[3])"
   ]
  },
  {
   "cell_type": "markdown",
   "metadata": {},
   "source": [
    "# 5. 리스트에서 원소별로 연산하기"
   ]
  },
  {
   "cell_type": "code",
   "execution_count": 12,
   "metadata": {},
   "outputs": [],
   "source": [
    "L = [1,2,3,4,5,6,7,8,9,10]"
   ]
  },
  {
   "cell_type": "markdown",
   "metadata": {},
   "source": [
    "리스트 L에서 각 항목에 10을 더한 새로운 리스트 [11, 12, 13, 14, 15, 16, 17, 18, 19, 20]를 만드시오."
   ]
  },
  {
   "cell_type": "markdown",
   "metadata": {},
   "source": [
    "#### 방법 1) for 문 이용"
   ]
  },
  {
   "cell_type": "code",
   "execution_count": 15,
   "metadata": {},
   "outputs": [
    {
     "name": "stdout",
     "output_type": "stream",
     "text": [
      "[]\n",
      "[1, 2, 3, 4, 5, 6, 7, 8, 9, 10]\n"
     ]
    }
   ],
   "source": [
    "##### Type Your Code Here #####\n",
    "new_list = list()\n",
    "\n",
    "\n",
    "print (new_list)\n",
    "print (L)"
   ]
  },
  {
   "cell_type": "markdown",
   "metadata": {},
   "source": [
    "#### 방법 2) map 함수 이용"
   ]
  },
  {
   "cell_type": "code",
   "execution_count": 17,
   "metadata": {},
   "outputs": [
    {
     "name": "stdout",
     "output_type": "stream",
     "text": [
      "[11, 12, 13, 14, 15, 16, 17, 18, 19, 20]\n",
      "[1, 2, 3, 4, 5, 6, 7, 8, 9, 10]\n"
     ]
    }
   ],
   "source": [
    "##### Type Your Code Here #####\n"
   ]
  },
  {
   "cell_type": "code",
   "execution_count": 16,
   "metadata": {},
   "outputs": [
    {
     "name": "stdout",
     "output_type": "stream",
     "text": [
      "<리스트에서 원소별로 연산하기>\n",
      "\n",
      "방법1)for문 이용\n",
      "1. 빈 리스트 생성\n",
      "2. 각 원소에 접근하며 연산 후 리스트에 추가\n",
      "\n",
      "방법2)map함수 이용\n",
      "사용법 - map(function, iterable typed object)\n",
      "1. 함수 정의\n",
      "2. map 함수\n",
      "3. list(map())\n",
      "\n",
      "** lambda - 이름 없는 함수\n",
      "사용법 - lambda 매개변수 : 반환값\n",
      "\n"
     ]
    }
   ],
   "source": [
    "##### Hint Here #####\n",
    "print (hints[4])"
   ]
  },
  {
   "cell_type": "markdown",
   "metadata": {},
   "source": [
    "# 6. 함수 생성하기"
   ]
  },
  {
   "cell_type": "code",
   "execution_count": 24,
   "metadata": {},
   "outputs": [],
   "source": [
    "passwords = ['999Ok', '1q2W3e4R','correct123!', 'ghsh@']"
   ]
  },
  {
   "cell_type": "markdown",
   "metadata": {},
   "source": [
    "주어진 passwords 리스트에서 다음 비밀번호 조건을 충족하는 것을 모두 출력하시오.\n",
    "- 6자리 이상일 것\n",
    "- 특수문자(@,!) 중 하나를 포함할 것"
   ]
  },
  {
   "cell_type": "code",
   "execution_count": 25,
   "metadata": {},
   "outputs": [
    {
     "name": "stdout",
     "output_type": "stream",
     "text": [
      "correct123!\n"
     ]
    }
   ],
   "source": [
    "for i in passwords:\n",
    "    if len(i) >= 6:\n",
    "        if '!' in i or '@' in i:\n",
    "            print (i)"
   ]
  },
  {
   "cell_type": "code",
   "execution_count": 18,
   "metadata": {},
   "outputs": [],
   "source": [
    "##### Type Your Code Here #####\n",
    "\n",
    "def check_password():\n",
    "    pass"
   ]
  },
  {
   "cell_type": "code",
   "execution_count": 19,
   "metadata": {},
   "outputs": [
    {
     "name": "stdout",
     "output_type": "stream",
     "text": [
      "<함수 생성하기>\n",
      "\n",
      "함수 생성 - def 함수이름():\n",
      "반복문 활용해 리스트 각 요소에 접근\n",
      "자릿수 확인 : len(string)\n",
      "숫자 확인 : string.isnumeric()\n",
      "영문 확인 : string.isalpha()\n",
      "대문자 확인 : string.upper()\n",
      "소문자 확인 : string.lower()\n",
      "특수문자 확인 : 숫자X, 영문X (주어진 문제의 경우)\n",
      "\n",
      "비밀번호 조건에 맞지 않는 경우 : \n",
      "숫자가 없거나 대문자가 없거나 소문자가 없거나 특수문자가 있는 경우\n",
      "\n"
     ]
    }
   ],
   "source": [
    "##### Hint Here #####\n",
    "print (hints[5])"
   ]
  },
  {
   "cell_type": "code",
   "execution_count": null,
   "metadata": {},
   "outputs": [],
   "source": []
  }
 ],
 "metadata": {
  "anaconda-cloud": {},
  "kernelspec": {
   "display_name": "Python [conda root]",
   "language": "python",
   "name": "conda-root-py"
  },
  "language_info": {
   "codemirror_mode": {
    "name": "ipython",
    "version": 3
   },
   "file_extension": ".py",
   "mimetype": "text/x-python",
   "name": "python",
   "nbconvert_exporter": "python",
   "pygments_lexer": "ipython3",
   "version": "3.5.2"
  }
 },
 "nbformat": 4,
 "nbformat_minor": 1
}
